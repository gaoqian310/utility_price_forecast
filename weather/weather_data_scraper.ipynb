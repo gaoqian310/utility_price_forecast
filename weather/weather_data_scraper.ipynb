{
 "cells": [
  {
   "cell_type": "code",
   "execution_count": 1,
   "metadata": {},
   "outputs": [],
   "source": [
    "import os\n",
    "import requests"
   ]
  },
  {
   "cell_type": "code",
   "execution_count": 2,
   "metadata": {},
   "outputs": [],
   "source": [
    "# Define the base URL where the files are located\n",
    "base_url = \"https://dd.weather.gc.ca/climate/observations/hourly/csv/AB/\""
   ]
  },
  {
   "cell_type": "code",
   "execution_count": 3,
   "metadata": {},
   "outputs": [],
   "source": [
    "# dictionary of station and their corresponding numbers\n",
    "#    \"Calgary\": \"3031092\",\n",
    "#    \"Edmonton\": \"3012209\",\n",
    "#    \"Red Deer\": \"3025484\",\n",
    "#    \"Lethbridge\": \"3033875\",\n",
    "#    \"Fort McMurray\": \"3062697\",\n",
    "#    \"Medicine Hat\": \"3034479\",\n",
    "#    \"Grande Prairie\": \"3072921\",\n",
    "stations = {\n",
    "    \"Calgary\": \"3031092\",\n",
    "    \"Edmonton\": \"3012216\",\n",
    "}"
   ]
  },
  {
   "cell_type": "code",
   "execution_count": 4,
   "metadata": {},
   "outputs": [],
   "source": [
    "# Create a folder to save the downloaded files\n",
    "folder_path = \"weather_data\"\n",
    "os.makedirs(folder_path, exist_ok=True)"
   ]
  },
  {
   "cell_type": "code",
   "execution_count": 5,
   "metadata": {},
   "outputs": [
    {
     "name": "stdout",
     "output_type": "stream",
     "text": [
      "Downloaded data for Calgary (2010)\n",
      "Downloaded data for Calgary (2011)\n",
      "Downloaded data for Calgary (2012)\n",
      "Downloaded data for Calgary (2013)\n",
      "Downloaded data for Calgary (2014)\n",
      "Downloaded data for Calgary (2015)\n",
      "Downloaded data for Calgary (2016)\n",
      "Downloaded data for Calgary (2017)\n",
      "Downloaded data for Calgary (2018)\n",
      "Downloaded data for Calgary (2019)\n",
      "Downloaded data for Calgary (2020)\n",
      "Downloaded data for Calgary (2021)\n",
      "Downloaded data for Calgary (2022)\n",
      "Downloaded data for Calgary (2023)\n",
      "Downloaded data for Calgary (2024)\n",
      "Downloaded data for Edmonton (2010)\n",
      "Downloaded data for Edmonton (2011)\n",
      "Downloaded data for Edmonton (2012)\n",
      "Downloaded data for Edmonton (2013)\n",
      "Downloaded data for Edmonton (2014)\n",
      "Downloaded data for Edmonton (2015)\n",
      "Downloaded data for Edmonton (2016)\n",
      "Downloaded data for Edmonton (2017)\n",
      "Downloaded data for Edmonton (2018)\n",
      "Downloaded data for Edmonton (2019)\n",
      "Downloaded data for Edmonton (2020)\n",
      "Downloaded data for Edmonton (2021)\n",
      "Downloaded data for Edmonton (2022)\n",
      "Downloaded data for Edmonton (2023)\n",
      "Downloaded data for Edmonton (2024)\n",
      "All files downloaded successfully!\n"
     ]
    }
   ],
   "source": [
    "# Iterate through each station\n",
    "for alias, station_number in stations.items():\n",
    "    # Construct the URL for the specific station and year\n",
    "    # Calgary and Edmonton have hourly data since mid of 2013, so our data start 2014\n",
    "    for year in range(2014, 2024):\n",
    "        url = f\"{base_url}climate_hourly_AB_{station_number}_{year}_P1H.csv\"\n",
    "\n",
    "        # Get the file content\n",
    "        response = requests.get(url)\n",
    "        content = response.content.decode(\"cp1252\")\n",
    "\n",
    "        # Save the content to a local file\n",
    "        filename = f\"{alias}_{year}.csv\"\n",
    "        file_save_path = os.path.join(folder_path, filename)\n",
    "        with open(file_save_path, \"w\", encoding=\"cp1252\") as file:\n",
    "            file.write(content)\n",
    "\n",
    "        print(f\"Downloaded data for {alias} ({year})\")\n",
    "\n",
    "print(\"All files downloaded successfully!\")"
   ]
  }
 ],
 "metadata": {
  "kernelspec": {
   "display_name": "base",
   "language": "python",
   "name": "python3"
  },
  "language_info": {
   "codemirror_mode": {
    "name": "ipython",
    "version": 3
   },
   "file_extension": ".py",
   "mimetype": "text/x-python",
   "name": "python",
   "nbconvert_exporter": "python",
   "pygments_lexer": "ipython3",
   "version": "3.12.2"
  }
 },
 "nbformat": 4,
 "nbformat_minor": 2
}
