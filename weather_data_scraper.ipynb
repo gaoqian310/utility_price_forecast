{
 "cells": [
  {
   "cell_type": "code",
   "execution_count": 4,
   "metadata": {},
   "outputs": [
    {
     "name": "stdout",
     "output_type": "stream",
     "text": [
      "Downloaded data for Calgary (2020)\n",
      "Downloaded data for Calgary (2021)\n",
      "Downloaded data for Calgary (2022)\n",
      "Downloaded data for Calgary (2023)\n",
      "Downloaded data for Calgary (2024)\n",
      "Downloaded data for Edmonton (2020)\n",
      "Downloaded data for Edmonton (2021)\n",
      "Downloaded data for Edmonton (2022)\n",
      "Downloaded data for Edmonton (2023)\n",
      "Downloaded data for Edmonton (2024)\n",
      "Downloaded data for Red Deer (2020)\n",
      "Downloaded data for Red Deer (2021)\n",
      "Downloaded data for Red Deer (2022)\n",
      "Downloaded data for Red Deer (2023)\n",
      "Downloaded data for Red Deer (2024)\n",
      "Downloaded data for Lethbridge (2020)\n",
      "Downloaded data for Lethbridge (2021)\n",
      "Downloaded data for Lethbridge (2022)\n",
      "Downloaded data for Lethbridge (2023)\n",
      "Downloaded data for Lethbridge (2024)\n",
      "Downloaded data for Fort McMurray (2020)\n",
      "Downloaded data for Fort McMurray (2021)\n",
      "Downloaded data for Fort McMurray (2022)\n",
      "Downloaded data for Fort McMurray (2023)\n",
      "Downloaded data for Fort McMurray (2024)\n",
      "Downloaded data for Medicine Hat (2020)\n",
      "Downloaded data for Medicine Hat (2021)\n",
      "Downloaded data for Medicine Hat (2022)\n",
      "Downloaded data for Medicine Hat (2023)\n",
      "Downloaded data for Medicine Hat (2024)\n",
      "Downloaded data for Grande Prairie (2020)\n",
      "Downloaded data for Grande Prairie (2021)\n",
      "Downloaded data for Grande Prairie (2022)\n",
      "Downloaded data for Grande Prairie (2023)\n",
      "Downloaded data for Grande Prairie (2024)\n",
      "All files downloaded successfully!\n"
     ]
    }
   ],
   "source": [
    "import os\n",
    "import requests\n",
    "\n",
    "# Define the base URL where the files are located\n",
    "base_url = \"https://dd.weather.gc.ca/climate/observations/hourly/csv/AB/\"\n",
    "\n",
    "# dictionary of station and their corresponding numbers\n",
    "#    \"Calgary\": \"3031093\",\n",
    "#    \"Edmonton\": \"3012195\",\n",
    "#    \"Red Deer\": \"3025441\",\n",
    "#    \"Lethbridge\": \"3033880\",\n",
    "#    \"Fort McMurray\": \"3062693\",\n",
    "#    \"Medicine Hat\": \"3034479\",\n",
    "#    \"Grande Prairie\": \"3072910\",\n",
    "stations = {\n",
    "    \"Calgary\": \"3031093\",\n",
    "    \"Edmonton\": \"3012195\",\n",
    "}\n",
    "\n",
    "# Create a folder to save the downloaded files\n",
    "folder_path = \"weather_data\"\n",
    "os.makedirs(folder_path, exist_ok=True)\n",
    "\n",
    "# Iterate through each station\n",
    "for alias, station_number in stations.items():\n",
    "    # Construct the URL for the specific station and year\n",
    "    for year in range(2020, 2025):\n",
    "        url = f\"{base_url}{station_number}_{year}.csv\"\n",
    "\n",
    "        # Get the file content\n",
    "        response = requests.get(url)\n",
    "        content = response.content.decode(\"cp1252\")\n",
    "\n",
    "        # Save the content to a local file\n",
    "        filename = f\"{alias}_{year}.csv\"\n",
    "        file_save_path = os.path.join(folder_path, filename)\n",
    "        with open(file_save_path, \"w\", encoding=\"utf-8\") as file:\n",
    "            file.write(content)\n",
    "\n",
    "        print(f\"Downloaded data for {alias} ({year})\")\n",
    "\n",
    "print(\"All files downloaded successfully!\")\n"
   ]
  }
 ],
 "metadata": {
  "kernelspec": {
   "display_name": "base",
   "language": "python",
   "name": "python3"
  },
  "language_info": {
   "codemirror_mode": {
    "name": "ipython",
    "version": 3
   },
   "file_extension": ".py",
   "mimetype": "text/x-python",
   "name": "python",
   "nbconvert_exporter": "python",
   "pygments_lexer": "ipython3",
   "version": "3.11.5"
  }
 },
 "nbformat": 4,
 "nbformat_minor": 2
}
