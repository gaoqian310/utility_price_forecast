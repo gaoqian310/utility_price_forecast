{
 "cells": [
  {
   "cell_type": "code",
   "execution_count": 25,
   "metadata": {},
   "outputs": [],
   "source": [
    "# Import libraries\n",
    "import pandas as pd\n",
    "\n",
    "# Load hourly data\n",
    "hourly_data = pd.read_csv('Calgary_merged_data.csv', parse_dates=['DateTime'])\n",
    "\n",
    "# Load 2A data\n",
    "daily_data = pd.read_csv('AESO/Aeco 2A.csv', parse_dates=['Trade Date'])"
   ]
  },
  {
   "cell_type": "code",
   "execution_count": 26,
   "metadata": {},
   "outputs": [
    {
     "name": "stdout",
     "output_type": "stream",
     "text": [
      "<class 'pandas.core.frame.DataFrame'>\n",
      "RangeIndex: 3354 entries, 0 to 3353\n",
      "Data columns (total 18 columns):\n",
      " #   Column                  Non-Null Count  Dtype         \n",
      "---  ------                  --------------  -----         \n",
      " 0   Trade Date              3354 non-null   datetime64[ns]\n",
      " 1   Index                   3345 non-null   object        \n",
      " 2   Trade Start             3345 non-null   object        \n",
      " 3   Trade End               3345 non-null   object        \n",
      " 4   Delivery Start          3345 non-null   object        \n",
      " 5   Delivery End            3345 non-null   object        \n",
      " 6   Index Price             3345 non-null   float64       \n",
      " 7   Price Currency          3345 non-null   object        \n",
      " 8   Duration                3345 non-null   float64       \n",
      " 9   Traded Volume           3345 non-null   float64       \n",
      " 10  Total Traded Volume     3345 non-null   float64       \n",
      " 11  Traded Volume Unit      3345 non-null   object        \n",
      " 12  Alternate Volume        0 non-null      float64       \n",
      " 13  Total Alternate Volume  0 non-null      float64       \n",
      " 14  Trades In Index         3345 non-null   float64       \n",
      " 15  Last Update Time        3345 non-null   object        \n",
      " 16  Component Type          3345 non-null   object        \n",
      " 17  Settle State            3345 non-null   object        \n",
      "dtypes: datetime64[ns](1), float64(7), object(10)\n",
      "memory usage: 471.8+ KB\n"
     ]
    }
   ],
   "source": [
    "daily_data.info()"
   ]
  },
  {
   "cell_type": "code",
   "execution_count": 27,
   "metadata": {},
   "outputs": [],
   "source": [
    "# Drop not needed columns from 2A data\n",
    "daily_data.drop(columns=['Index','Trade Start','Trade End','Delivery Start','Delivery End','Price Currency', 'Traded Volume', 'Total Traded Volume','Traded Volume Unit','Alternate Volume','Total Alternate Volume','Duration','Trades In Index','Last Update Time','Component Type','Settle State'], inplace=True)\n"
   ]
  },
  {
   "cell_type": "code",
   "execution_count": 28,
   "metadata": {},
   "outputs": [
    {
     "name": "stdout",
     "output_type": "stream",
     "text": [
      "<class 'pandas.core.frame.DataFrame'>\n",
      "RangeIndex: 3354 entries, 0 to 3353\n",
      "Data columns (total 2 columns):\n",
      " #   Column       Non-Null Count  Dtype         \n",
      "---  ------       --------------  -----         \n",
      " 0   Trade Date   3354 non-null   datetime64[ns]\n",
      " 1   Index Price  3345 non-null   float64       \n",
      "dtypes: datetime64[ns](1), float64(1)\n",
      "memory usage: 52.5 KB\n"
     ]
    }
   ],
   "source": [
    "daily_data.info()"
   ]
  },
  {
   "cell_type": "code",
   "execution_count": 29,
   "metadata": {},
   "outputs": [
    {
     "name": "stderr",
     "output_type": "stream",
     "text": [
      "C:\\Users\\gaoqian\\AppData\\Local\\Temp\\ipykernel_47156\\1095266215.py:7: FutureWarning: 'H' is deprecated and will be removed in a future version, please use 'h' instead.\n",
      "  daily_expanded = daily_expanded.set_index('DateTime').resample('H').ffill().reset_index()\n"
     ]
    },
    {
     "name": "stdout",
     "output_type": "stream",
     "text": [
      "Daily data has been expanded into 24 hours and merged with hourly data.\n"
     ]
    }
   ],
   "source": [
    "# Rename some columns to clean the data\n",
    "daily_data.rename(columns={'Trade Date': 'DateTime'}, inplace=True)\n",
    "\n",
    "# Expand the daily data into 24 hours\n",
    "daily_expanded = daily_data.loc[:, ['DateTime', 'Index Price']].copy()\n",
    "daily_expanded['DateTime'] = daily_expanded['DateTime'].dt.floor('D')  # Truncate to date\n",
    "daily_expanded = daily_expanded.set_index('DateTime').resample('H').ffill().reset_index()\n",
    "\n",
    "# Merge the DataFrames based on 'DateTime'\n",
    "merged_df = pd.merge(hourly_data, daily_expanded, on='DateTime', how='inner')\n",
    "\n",
    "# Drop the extra 'Date' column created by the merge\n",
    "merged_df.drop(columns=['Date'], inplace=True)\n",
    "\n",
    "# Rename column\n",
    "merged_df.rename(columns={'Index Price': 'NG_price'}, inplace=True)\n",
    "\n",
    "# Save the merged DataFrame to a new file\n",
    "merged_df.to_csv('merged_expanded_data.csv', index=False)\n",
    "print(\"Daily data has been expanded into 24 hours and merged with hourly data.\")"
   ]
  }
 ],
 "metadata": {
  "kernelspec": {
   "display_name": "Python 3",
   "language": "python",
   "name": "python3"
  },
  "language_info": {
   "codemirror_mode": {
    "name": "ipython",
    "version": 3
   },
   "file_extension": ".py",
   "mimetype": "text/x-python",
   "name": "python",
   "nbconvert_exporter": "python",
   "pygments_lexer": "ipython3",
   "version": "3.12.2"
  }
 },
 "nbformat": 4,
 "nbformat_minor": 2
}
