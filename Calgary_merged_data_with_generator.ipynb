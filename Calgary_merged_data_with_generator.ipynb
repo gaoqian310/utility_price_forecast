{
 "cells": [
  {
   "cell_type": "code",
   "execution_count": 16,
   "metadata": {},
   "outputs": [
    {
     "name": "stderr",
     "output_type": "stream",
     "text": [
      "C:\\Users\\gaoqian\\AppData\\Local\\Temp\\ipykernel_14096\\252786055.py:24: FutureWarning: 'H' is deprecated and will be removed in a future version, please use 'h' instead.\n",
      "  generation_data_expanded = generation_data_expanded.set_index('DateTime').resample('H').ffill().reset_index()\n"
     ]
    },
    {
     "name": "stdout",
     "output_type": "stream",
     "text": [
      "now merged with generator data\n"
     ]
    }
   ],
   "source": [
    "# Import libraries\n",
    "import pandas as pd\n",
    "\n",
    "# Load existing data\n",
    "existing_data = pd.read_csv('merged_expanded_data.csv', parse_dates=['DateTime'])\n",
    "\n",
    "# Load generation data\n",
    "generation_data = pd.read_csv('generator/combined_daily_generation.csv', parse_dates=['Date'])\n",
    "\n",
    "# Rename some columns to clean the data\n",
    "generation_data.rename(columns={'Date': 'DateTime'}, inplace=True)\n",
    "\n",
    "# Rename some columns to make data more readable\n",
    "generation_data.rename(columns={\n",
    "    'Trend_Coal_Generation': 'Trend_Coal',\n",
    "    'Trend + Seasonal Component_x': 'Trend_Gas',\n",
    "    'Trend_Seasonal_Component': 'Trend_Solar',\n",
    "    'Trend + Seasonal Component_y': 'Trend_Wind'\n",
    "}, inplace=True)\n",
    "\n",
    "# Expand the generation data into 24 hours\n",
    "generation_data_expanded = generation_data.loc[:, ['DateTime', 'Coal','Trend_Coal','Gas','Trend_Gas','Solar','Trend_Solar','Wind','Trend_Wind']].copy()\n",
    "generation_data_expanded['DateTime'] = generation_data_expanded['DateTime'].dt.floor('D')  # Truncate to date\n",
    "generation_data_expanded = generation_data_expanded.set_index('DateTime').resample('H').ffill().reset_index()\n",
    "\n",
    "# Merge the DataFrames based on 'DateTime'\n",
    "merged_df = pd.merge(existing_data, generation_data_expanded, on='DateTime', how='inner')\n",
    "\n",
    "# Drop column\n",
    "merged_df.drop(columns=['Station Name','Year','Month','Day','Time (LST)','Weather'], inplace=True)\n",
    "\n",
    "# Save the merged DataFrame to a new file\n",
    "merged_df.to_csv('Calgary_merged_expanded_data_with_generator.csv', index=False)\n",
    "print(\"now merged with generator data\")"
   ]
  }
 ],
 "metadata": {
  "kernelspec": {
   "display_name": "Python 3",
   "language": "python",
   "name": "python3"
  },
  "language_info": {
   "codemirror_mode": {
    "name": "ipython",
    "version": 3
   },
   "file_extension": ".py",
   "mimetype": "text/x-python",
   "name": "python",
   "nbconvert_exporter": "python",
   "pygments_lexer": "ipython3",
   "version": "3.12.2"
  }
 },
 "nbformat": 4,
 "nbformat_minor": 2
}
