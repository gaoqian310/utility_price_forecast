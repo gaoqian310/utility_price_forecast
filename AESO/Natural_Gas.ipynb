{
 "cells": [
  {
   "cell_type": "code",
   "execution_count": 1,
   "metadata": {},
   "outputs": [
    {
     "name": "stderr",
     "output_type": "stream",
     "text": [
      "C:\\Users\\gaoqian\\AppData\\Local\\Temp\\ipykernel_58136\\180538607.py:3: DeprecationWarning: \n",
      "Pyarrow will become a required dependency of pandas in the next major release of pandas (pandas 3.0),\n",
      "(to allow more performant data types, such as the Arrow string type, and better interoperability with other libraries)\n",
      "but was not found to be installed on your system.\n",
      "If this would cause problems for you,\n",
      "please provide us feedback at https://github.com/pandas-dev/pandas/issues/54466\n",
      "        \n",
      "  import pandas as pd\n"
     ]
    }
   ],
   "source": [
    "# Source: https://economicdashboard.alberta.ca/dashboard/natural-gas-price/#section2\n",
    "\n",
    "import pandas as pd\n",
    "import requests\n",
    "import json\n",
    "\n",
    "api_url = 'https://api.economicdata.alberta.ca/api/data?code=1d7cea03-8cd1-497f-8f62-bc62de9a1b7a'\n",
    "\n",
    "response_API = requests.get(api_url)\n",
    "json_data = response_API.json()\n",
    "df = pd.json_normalize(json_data)\n",
    "\n",
    "df.to_csv('Alberta Natural Gas Price $ per GJ - Monthly.csv', index=False)"
   ]
  }
 ],
 "metadata": {
  "kernelspec": {
   "display_name": "Python 3",
   "language": "python",
   "name": "python3"
  },
  "language_info": {
   "codemirror_mode": {
    "name": "ipython",
    "version": 3
   },
   "file_extension": ".py",
   "mimetype": "text/x-python",
   "name": "python",
   "nbconvert_exporter": "python",
   "pygments_lexer": "ipython3",
   "version": "3.12.2"
  }
 },
 "nbformat": 4,
 "nbformat_minor": 2
}
