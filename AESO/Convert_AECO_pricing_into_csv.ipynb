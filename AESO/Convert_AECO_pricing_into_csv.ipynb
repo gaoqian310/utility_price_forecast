{
 "cells": [
  {
   "cell_type": "code",
   "execution_count": 2,
   "metadata": {},
   "outputs": [
    {
     "name": "stdout",
     "output_type": "stream",
     "text": [
      "Sheet Aeco 2A has been saved as Aeco 2A.csv\n",
      "Sheet Aeco 5A has been saved as Aeco 5A.csv\n",
      "Sheet Aeco 7A has been saved as Aeco 7A.csv\n"
     ]
    }
   ],
   "source": [
    "import pandas as pd\n",
    "\n",
    "# Load the Excel file\n",
    "xlsx_file = pd.ExcelFile('Historical AECO Index Pricing.xlsx')\n",
    "\n",
    "# Iterate over all sheets in the Excel file\n",
    "for sheet_name in xlsx_file.sheet_names:\n",
    "    # Read the sheet into a pandas DataFrame\n",
    "    df = xlsx_file.parse(sheet_name)\n",
    "    \n",
    "    # Convert the DataFrame to a CSV file\n",
    "    csv_file = f'{sheet_name}.csv'\n",
    "    df.to_csv(csv_file, index=False)\n",
    "    \n",
    "    # Print a success message for each sheet\n",
    "    print(f'Sheet {sheet_name} has been saved as {csv_file}')\n"
   ]
  }
 ],
 "metadata": {
  "kernelspec": {
   "display_name": "Python 3",
   "language": "python",
   "name": "python3"
  },
  "language_info": {
   "codemirror_mode": {
    "name": "ipython",
    "version": 3
   },
   "file_extension": ".py",
   "mimetype": "text/x-python",
   "name": "python",
   "nbconvert_exporter": "python",
   "pygments_lexer": "ipython3",
   "version": "3.12.2"
  }
 },
 "nbformat": 4,
 "nbformat_minor": 2
}
