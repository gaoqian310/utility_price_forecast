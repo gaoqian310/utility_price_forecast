{
 "cells": [
  {
   "cell_type": "code",
   "execution_count": 7,
   "metadata": {},
   "outputs": [],
   "source": [
    "# Import libraries\n",
    "import pandas as pd"
   ]
  },
  {
   "cell_type": "code",
   "execution_count": 8,
   "metadata": {},
   "outputs": [],
   "source": [
    "\n",
    "# Load hourly data\n",
    "hourly_data = pd.read_csv('Calgary_merged_data.csv', parse_dates=['DateTime'])\n",
    "\n",
    "# Load daily data\n",
    "daily_data = pd.read_csv('AESO/Alberta Natural Gas Price $ per GJ - Monthly.csv', parse_dates=['Date'])"
   ]
  },
  {
   "cell_type": "code",
   "execution_count": 9,
   "metadata": {},
   "outputs": [],
   "source": [
    "# Rename some columns to clean the data\n",
    "daily_data.rename(columns={'Date': 'DateTime'}, inplace=True)\n",
    "daily_data.rename(columns={'Type ': 'Type'}, inplace=True)"
   ]
  },
  {
   "cell_type": "code",
   "execution_count": 10,
   "metadata": {},
   "outputs": [
    {
     "name": "stderr",
     "output_type": "stream",
     "text": [
      "C:\\Users\\gaoqian\\AppData\\Local\\Temp\\ipykernel_45552\\217507501.py:4: FutureWarning: 'H' is deprecated and will be removed in a future version, please use 'h' instead.\n",
      "  daily_expanded = daily_expanded.set_index('DateTime').resample('H').ffill().reset_index()\n"
     ]
    }
   ],
   "source": [
    "# Expand the daily data into 24 hours\n",
    "daily_expanded = daily_data.loc[:, ['DateTime', 'Type', 'Unit', 'Value']].copy()\n",
    "daily_expanded['DateTime'] = daily_expanded['DateTime'].dt.floor('D')  # Truncate to date\n",
    "daily_expanded = daily_expanded.set_index('DateTime').resample('H').ffill().reset_index()"
   ]
  },
  {
   "cell_type": "code",
   "execution_count": 11,
   "metadata": {},
   "outputs": [],
   "source": [
    "# Merge the DataFrames based on 'DateTime'\n",
    "merged_df = pd.merge(hourly_data, daily_expanded, on='DateTime', how='inner')\n",
    "\n",
    "# Drop the extra 'Date' column created by the merge\n",
    "merged_df.drop(columns=['Date'], inplace=True)\n",
    "\n",
    "# Rename column\n",
    "merged_df.rename(columns={'Value': 'NG_price'}, inplace=True)"
   ]
  },
  {
   "cell_type": "code",
   "execution_count": 12,
   "metadata": {},
   "outputs": [
    {
     "name": "stdout",
     "output_type": "stream",
     "text": [
      "Daily data has been expanded into 24 hours and merged with hourly data.\n"
     ]
    }
   ],
   "source": [
    "# Save the merged DataFrame to a new file\n",
    "merged_df.to_csv('merged_expanded_data.csv', index=False)\n",
    "print(\"Daily data has been expanded into 24 hours and merged with hourly data.\")"
   ]
  }
 ],
 "metadata": {
  "kernelspec": {
   "display_name": "Python 3",
   "language": "python",
   "name": "python3"
  },
  "language_info": {
   "codemirror_mode": {
    "name": "ipython",
    "version": 3
   },
   "file_extension": ".py",
   "mimetype": "text/x-python",
   "name": "python",
   "nbconvert_exporter": "python",
   "pygments_lexer": "ipython3",
   "version": "3.12.2"
  }
 },
 "nbformat": 4,
 "nbformat_minor": 2
}
