{
 "cells": [
  {
   "cell_type": "code",
   "execution_count": null,
   "metadata": {},
   "outputs": [],
   "source": [
    "# Import libraries\n",
    "import pandas as pd"
   ]
  },
  {
   "cell_type": "code",
   "execution_count": null,
   "metadata": {},
   "outputs": [],
   "source": [
    "\n",
    "# Load hourly data\n",
    "hourly_data = pd.read_csv('Calgary_merged_data.csv', parse_dates=['DateTime'])\n",
    "\n",
    "# Load daily data\n",
    "daily_data = pd.read_csv('AESO/Alberta Natural Gas Price $ per GJ - Monthly.csv', parse_dates=['Date'])"
   ]
  },
  {
   "cell_type": "code",
   "execution_count": null,
   "metadata": {},
   "outputs": [],
   "source": [
    "# Rename some columns to clean the data\n",
    "daily_data.rename(columns={'Date': 'DateTime'}, inplace=True)\n",
    "daily_data.rename(columns={'Type ': 'Type'}, inplace=True)"
   ]
  },
  {
   "cell_type": "code",
   "execution_count": null,
   "metadata": {},
   "outputs": [],
   "source": [
    "# Expand the daily data into 24 hours\n",
    "daily_expanded = daily_data.loc[:, ['DateTime', 'Type', 'Unit', 'Value']].copy()\n",
    "daily_expanded['DateTime'] = daily_expanded['DateTime'].dt.floor('D')  # Truncate to date\n",
    "daily_expanded = daily_expanded.set_index('DateTime').resample('H').ffill().reset_index()"
   ]
  },
  {
   "cell_type": "code",
   "execution_count": null,
   "metadata": {},
   "outputs": [],
   "source": [
    "# Merge the DataFrames based on 'DateTime'\n",
    "merged_df = pd.merge(hourly_data, daily_expanded, on='DateTime', how='inner')\n",
    "\n",
    "# Drop the extra 'Date' column created by the merge\n",
    "merged_df.drop(columns=['Date'], inplace=True)"
   ]
  },
  {
   "cell_type": "code",
   "execution_count": null,
   "metadata": {},
   "outputs": [],
   "source": [
    "# Save the merged DataFrame to a new file\n",
    "merged_df.to_csv('merged_expanded_data.csv', index=False)\n",
    "print(\"Daily data has been expanded into 24 hours and merged with hourly data.\")"
   ]
  }
 ],
 "metadata": {
  "kernelspec": {
   "display_name": "Python 3",
   "language": "python",
   "name": "python3"
  },
  "language_info": {
   "codemirror_mode": {
    "name": "ipython",
    "version": 3
   },
   "file_extension": ".py",
   "mimetype": "text/x-python",
   "name": "python",
   "nbconvert_exporter": "python",
   "pygments_lexer": "ipython3",
   "version": "3.12.2"
  }
 },
 "nbformat": 4,
 "nbformat_minor": 2
}
