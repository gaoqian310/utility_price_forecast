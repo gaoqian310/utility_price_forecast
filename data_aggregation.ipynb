{
 "cells": [
  {
   "cell_type": "code",
   "execution_count": 21,
   "metadata": {},
   "outputs": [],
   "source": [
    "# Import libraries\n",
    "from datetime import datetime, timedelta\n",
    "import pandas as pd"
   ]
  },
  {
   "cell_type": "code",
   "execution_count": 22,
   "metadata": {},
   "outputs": [],
   "source": [
    "# Replace with actual file paths\n",
    "AESO_price = 'AESO/AESO Pool Price - Raw.csv'\n",
    "Calgary_weather = 'weather/aggregated_weather_data/Calgary_aggregated_weather.csv'"
   ]
  },
  {
   "cell_type": "code",
   "execution_count": 23,
   "metadata": {},
   "outputs": [],
   "source": [
    "# Load the files into pandas DataFrames\n",
    "df_AESO_price = pd.read_csv(AESO_price)\n",
    "df_Calgary_weather = pd.read_csv(Calgary_weather)"
   ]
  },
  {
   "cell_type": "code",
   "execution_count": 25,
   "metadata": {},
   "outputs": [],
   "source": [
    "# Rename the column\n",
    "df_AESO_price.rename(columns={'begin_datetime_utc': 'DateTime'}, inplace=True)\n",
    "df_Calgary_weather.rename(columns={'Date/Time (LST)': 'DateTime'}, inplace=True)"
   ]
  },
  {
   "cell_type": "code",
   "execution_count": 26,
   "metadata": {},
   "outputs": [],
   "source": [
    "# Convert DaTime to a datetime format\n",
    "df_AESO_price['DateTime'] = pd.to_datetime(df_AESO_price['DateTime'], format='%Y-%m-%d %H:%M')\n",
    "df_Calgary_weather['DateTime'] = pd.to_datetime(df_Calgary_weather['DateTime'], format='%Y-%m-%d %H:%M')"
   ]
  },
  {
   "cell_type": "code",
   "execution_count": 27,
   "metadata": {},
   "outputs": [],
   "source": [
    "# Convert the 'DateTime' column in df_utc from UTC to MST (UTC-7)\n",
    "df_AESO_price['DateTime'] = pd.to_datetime(df_AESO_price['DateTime']).apply(lambda x: x - timedelta(hours=7))"
   ]
  },
  {
   "cell_type": "code",
   "execution_count": 28,
   "metadata": {},
   "outputs": [],
   "source": [
    "# Merge the two DataFrames on the 'DateTime' column\n",
    "merged_df = pd.merge(df_AESO_price, df_Calgary_weather, on='DateTime', how='outer')"
   ]
  },
  {
   "cell_type": "code",
   "execution_count": 29,
   "metadata": {},
   "outputs": [
    {
     "name": "stdout",
     "output_type": "stream",
     "text": [
      "The UTC times have been converted to MST and the files have been merged into 'merged_file.csv'.\n"
     ]
    }
   ],
   "source": [
    "# Save the merged DataFrame to a new CSV file\n",
    "merged_df.to_csv('Calgary_merged_data.csv', index=False)\n",
    "\n",
    "# Print a success message\n",
    "print(\"The UTC times have been converted to MST and the files have been merged into 'Calgary_merged_data.csv'.\")"
   ]
  }
 ],
 "metadata": {
  "kernelspec": {
   "display_name": "Python 3",
   "language": "python",
   "name": "python3"
  },
  "language_info": {
   "codemirror_mode": {
    "name": "ipython",
    "version": 3
   },
   "file_extension": ".py",
   "mimetype": "text/x-python",
   "name": "python",
   "nbconvert_exporter": "python",
   "pygments_lexer": "ipython3",
   "version": "3.12.2"
  }
 },
 "nbformat": 4,
 "nbformat_minor": 2
}
